{
 "cells": [
  {
   "cell_type": "markdown",
   "id": "d7910a9a",
   "metadata": {},
   "source": [
    "## Importing the libraries"
   ]
  },
  {
   "cell_type": "code",
   "execution_count": 99,
   "id": "74ec2c9e",
   "metadata": {},
   "outputs": [],
   "source": [
    "import numpy as np\n",
    "import pandas as pd\n",
    "import matplotlib.pyplot as plt\n",
    "import tensorflow as tf"
   ]
  },
  {
   "cell_type": "code",
   "execution_count": 100,
   "id": "b969b971",
   "metadata": {},
   "outputs": [
    {
     "data": {
      "text/plain": [
       "'2.9.1'"
      ]
     },
     "execution_count": 100,
     "metadata": {},
     "output_type": "execute_result"
    }
   ],
   "source": [
    "tf.__version__"
   ]
  },
  {
   "cell_type": "markdown",
   "id": "b1bd9db8",
   "metadata": {},
   "source": [
    "## Importing the dataset"
   ]
  },
  {
   "cell_type": "code",
   "execution_count": 101,
   "id": "d4e43b71",
   "metadata": {},
   "outputs": [],
   "source": [
    "dataset=pd.read_csv(\"Air.csv\")\n",
    "X=dataset.iloc[:,:-1].values\n",
    "y=dataset.iloc[:,-1].values"
   ]
  },
  {
   "cell_type": "code",
   "execution_count": 102,
   "id": "1f1fa3a1",
   "metadata": {},
   "outputs": [
    {
     "data": {
      "text/html": [
       "<div>\n",
       "<style scoped>\n",
       "    .dataframe tbody tr th:only-of-type {\n",
       "        vertical-align: middle;\n",
       "    }\n",
       "\n",
       "    .dataframe tbody tr th {\n",
       "        vertical-align: top;\n",
       "    }\n",
       "\n",
       "    .dataframe thead th {\n",
       "        text-align: right;\n",
       "    }\n",
       "</style>\n",
       "<table border=\"1\" class=\"dataframe\">\n",
       "  <thead>\n",
       "    <tr style=\"text-align: right;\">\n",
       "      <th></th>\n",
       "      <th>Flight</th>\n",
       "      <th>AirportFrom</th>\n",
       "      <th>AirportTo</th>\n",
       "      <th>DayOfWeek</th>\n",
       "      <th>Time</th>\n",
       "      <th>Length</th>\n",
       "      <th>Delay</th>\n",
       "    </tr>\n",
       "  </thead>\n",
       "  <tbody>\n",
       "    <tr>\n",
       "      <th>0</th>\n",
       "      <td>269</td>\n",
       "      <td>SFO</td>\n",
       "      <td>IAH</td>\n",
       "      <td>3</td>\n",
       "      <td>15</td>\n",
       "      <td>205</td>\n",
       "      <td>1</td>\n",
       "    </tr>\n",
       "    <tr>\n",
       "      <th>1</th>\n",
       "      <td>1558</td>\n",
       "      <td>PHX</td>\n",
       "      <td>CLT</td>\n",
       "      <td>3</td>\n",
       "      <td>15</td>\n",
       "      <td>222</td>\n",
       "      <td>1</td>\n",
       "    </tr>\n",
       "    <tr>\n",
       "      <th>2</th>\n",
       "      <td>2400</td>\n",
       "      <td>LAX</td>\n",
       "      <td>DFW</td>\n",
       "      <td>3</td>\n",
       "      <td>20</td>\n",
       "      <td>165</td>\n",
       "      <td>1</td>\n",
       "    </tr>\n",
       "    <tr>\n",
       "      <th>3</th>\n",
       "      <td>2466</td>\n",
       "      <td>SFO</td>\n",
       "      <td>DFW</td>\n",
       "      <td>3</td>\n",
       "      <td>20</td>\n",
       "      <td>195</td>\n",
       "      <td>1</td>\n",
       "    </tr>\n",
       "    <tr>\n",
       "      <th>4</th>\n",
       "      <td>108</td>\n",
       "      <td>ANC</td>\n",
       "      <td>SEA</td>\n",
       "      <td>3</td>\n",
       "      <td>30</td>\n",
       "      <td>202</td>\n",
       "      <td>0</td>\n",
       "    </tr>\n",
       "    <tr>\n",
       "      <th>...</th>\n",
       "      <td>...</td>\n",
       "      <td>...</td>\n",
       "      <td>...</td>\n",
       "      <td>...</td>\n",
       "      <td>...</td>\n",
       "      <td>...</td>\n",
       "      <td>...</td>\n",
       "    </tr>\n",
       "    <tr>\n",
       "      <th>539378</th>\n",
       "      <td>178</td>\n",
       "      <td>OGG</td>\n",
       "      <td>SNA</td>\n",
       "      <td>5</td>\n",
       "      <td>1439</td>\n",
       "      <td>326</td>\n",
       "      <td>0</td>\n",
       "    </tr>\n",
       "    <tr>\n",
       "      <th>539379</th>\n",
       "      <td>398</td>\n",
       "      <td>SEA</td>\n",
       "      <td>ATL</td>\n",
       "      <td>5</td>\n",
       "      <td>1439</td>\n",
       "      <td>305</td>\n",
       "      <td>0</td>\n",
       "    </tr>\n",
       "    <tr>\n",
       "      <th>539380</th>\n",
       "      <td>609</td>\n",
       "      <td>SFO</td>\n",
       "      <td>MKE</td>\n",
       "      <td>5</td>\n",
       "      <td>1439</td>\n",
       "      <td>255</td>\n",
       "      <td>0</td>\n",
       "    </tr>\n",
       "    <tr>\n",
       "      <th>539381</th>\n",
       "      <td>78</td>\n",
       "      <td>HNL</td>\n",
       "      <td>SFO</td>\n",
       "      <td>5</td>\n",
       "      <td>1439</td>\n",
       "      <td>313</td>\n",
       "      <td>1</td>\n",
       "    </tr>\n",
       "    <tr>\n",
       "      <th>539382</th>\n",
       "      <td>1442</td>\n",
       "      <td>LAX</td>\n",
       "      <td>PHL</td>\n",
       "      <td>5</td>\n",
       "      <td>1439</td>\n",
       "      <td>301</td>\n",
       "      <td>1</td>\n",
       "    </tr>\n",
       "  </tbody>\n",
       "</table>\n",
       "<p>539383 rows × 7 columns</p>\n",
       "</div>"
      ],
      "text/plain": [
       "        Flight AirportFrom AirportTo  DayOfWeek  Time  Length  Delay\n",
       "0          269         SFO       IAH          3    15     205      1\n",
       "1         1558         PHX       CLT          3    15     222      1\n",
       "2         2400         LAX       DFW          3    20     165      1\n",
       "3         2466         SFO       DFW          3    20     195      1\n",
       "4          108         ANC       SEA          3    30     202      0\n",
       "...        ...         ...       ...        ...   ...     ...    ...\n",
       "539378     178         OGG       SNA          5  1439     326      0\n",
       "539379     398         SEA       ATL          5  1439     305      0\n",
       "539380     609         SFO       MKE          5  1439     255      0\n",
       "539381      78         HNL       SFO          5  1439     313      1\n",
       "539382    1442         LAX       PHL          5  1439     301      1\n",
       "\n",
       "[539383 rows x 7 columns]"
      ]
     },
     "execution_count": 102,
     "metadata": {},
     "output_type": "execute_result"
    }
   ],
   "source": [
    "dataset"
   ]
  },
  {
   "cell_type": "code",
   "execution_count": 103,
   "id": "a31e775e",
   "metadata": {},
   "outputs": [
    {
     "data": {
      "text/plain": [
       "(539383, 7)"
      ]
     },
     "execution_count": 103,
     "metadata": {},
     "output_type": "execute_result"
    }
   ],
   "source": [
    "dataset.shape"
   ]
  },
  {
   "cell_type": "code",
   "execution_count": 104,
   "id": "b52b3300",
   "metadata": {},
   "outputs": [
    {
     "data": {
      "text/plain": [
       "array([[1],\n",
       "       [1],\n",
       "       [1],\n",
       "       ...,\n",
       "       [0],\n",
       "       [1],\n",
       "       [1]], dtype=int64)"
      ]
     },
     "execution_count": 104,
     "metadata": {},
     "output_type": "execute_result"
    }
   ],
   "source": [
    "y=y.reshape(len(y),1)\n",
    "y"
   ]
  },
  {
   "cell_type": "markdown",
   "id": "02fbd777",
   "metadata": {},
   "source": [
    "## Taking care of missing values"
   ]
  },
  {
   "cell_type": "code",
   "execution_count": 105,
   "id": "8c54c036",
   "metadata": {},
   "outputs": [
    {
     "data": {
      "text/plain": [
       "Flight         0\n",
       "AirportFrom    0\n",
       "AirportTo      0\n",
       "DayOfWeek      0\n",
       "Time           0\n",
       "Length         0\n",
       "Delay          0\n",
       "dtype: int64"
      ]
     },
     "execution_count": 105,
     "metadata": {},
     "output_type": "execute_result"
    }
   ],
   "source": [
    "dataset.isnull().sum()"
   ]
  },
  {
   "cell_type": "code",
   "execution_count": 106,
   "id": "88b4d37b",
   "metadata": {},
   "outputs": [
    {
     "data": {
      "text/plain": [
       "array([[269, 'SFO', 'IAH', 3, 15, 205],\n",
       "       [1558, 'PHX', 'CLT', 3, 15, 222],\n",
       "       [2400, 'LAX', 'DFW', 3, 20, 165],\n",
       "       ...,\n",
       "       [609, 'SFO', 'MKE', 5, 1439, 255],\n",
       "       [78, 'HNL', 'SFO', 5, 1439, 313],\n",
       "       [1442, 'LAX', 'PHL', 5, 1439, 301]], dtype=object)"
      ]
     },
     "execution_count": 106,
     "metadata": {},
     "output_type": "execute_result"
    }
   ],
   "source": [
    "X"
   ]
  },
  {
   "cell_type": "markdown",
   "id": "9335d5cc",
   "metadata": {},
   "source": [
    "## Encoding the Airline Airfrom and Airto using Label encoder"
   ]
  },
  {
   "cell_type": "code",
   "execution_count": 107,
   "id": "33bf9280",
   "metadata": {},
   "outputs": [],
   "source": [
    "from sklearn.preprocessing import LabelEncoder\n",
    "encoder=LabelEncoder()\n",
    "X[:,1]=encoder.fit_transform(X[:,1])\n",
    "X[:,2]=encoder.fit_transform(X[:,2])"
   ]
  },
  {
   "cell_type": "code",
   "execution_count": 108,
   "id": "d2335f2f",
   "metadata": {},
   "outputs": [
    {
     "data": {
      "text/plain": [
       "array([253, 217, 154, ..., 253, 128, 154], dtype=object)"
      ]
     },
     "execution_count": 108,
     "metadata": {},
     "output_type": "execute_result"
    }
   ],
   "source": [
    "X[:,1]"
   ]
  },
  {
   "cell_type": "code",
   "execution_count": 109,
   "id": "b607024a",
   "metadata": {},
   "outputs": [
    {
     "data": {
      "text/plain": [
       "array([135, 60, 80, ..., 184, 253, 216], dtype=object)"
      ]
     },
     "execution_count": 109,
     "metadata": {},
     "output_type": "execute_result"
    }
   ],
   "source": [
    "X[:,2]"
   ]
  },
  {
   "cell_type": "markdown",
   "id": "b24a975f",
   "metadata": {},
   "source": [
    "## Using Backward elimination for feature selection"
   ]
  },
  {
   "cell_type": "code",
   "execution_count": 90,
   "id": "38655824",
   "metadata": {},
   "outputs": [
    {
     "data": {
      "text/html": [
       "<table class=\"simpletable\">\n",
       "<caption>OLS Regression Results</caption>\n",
       "<tr>\n",
       "  <th>Dep. Variable:</th>            <td>y</td>        <th>  R-squared:         </th>  <td>   0.028</td>  \n",
       "</tr>\n",
       "<tr>\n",
       "  <th>Model:</th>                   <td>OLS</td>       <th>  Adj. R-squared:    </th>  <td>   0.028</td>  \n",
       "</tr>\n",
       "<tr>\n",
       "  <th>Method:</th>             <td>Least Squares</td>  <th>  F-statistic:       </th>  <td>   3069.</td>  \n",
       "</tr>\n",
       "<tr>\n",
       "  <th>Date:</th>             <td>Fri, 29 Jul 2022</td> <th>  Prob (F-statistic):</th>   <td>  0.00</td>   \n",
       "</tr>\n",
       "<tr>\n",
       "  <th>Time:</th>                 <td>22:40:30</td>     <th>  Log-Likelihood:    </th> <td>-3.8068e+05</td>\n",
       "</tr>\n",
       "<tr>\n",
       "  <th>No. Observations:</th>      <td>539383</td>      <th>  AIC:               </th>  <td>7.614e+05</td> \n",
       "</tr>\n",
       "<tr>\n",
       "  <th>Df Residuals:</th>          <td>539377</td>      <th>  BIC:               </th>  <td>7.614e+05</td> \n",
       "</tr>\n",
       "<tr>\n",
       "  <th>Df Model:</th>              <td>     5</td>      <th>                     </th>      <td> </td>     \n",
       "</tr>\n",
       "<tr>\n",
       "  <th>Covariance Type:</th>      <td>nonrobust</td>    <th>                     </th>      <td> </td>     \n",
       "</tr>\n",
       "</table>\n",
       "<table class=\"simpletable\">\n",
       "<tr>\n",
       "    <td></td>       <th>coef</th>     <th>std err</th>      <th>t</th>      <th>P>|t|</th>  <th>[0.025</th>    <th>0.975]</th>  \n",
       "</tr>\n",
       "<tr>\n",
       "  <th>const</th> <td>    0.2258</td> <td>    0.003</td> <td>   72.798</td> <td> 0.000</td> <td>    0.220</td> <td>    0.232</td>\n",
       "</tr>\n",
       "<tr>\n",
       "  <th>x1</th>    <td>-1.055e-05</td> <td> 3.23e-07</td> <td>  -32.680</td> <td> 0.000</td> <td>-1.12e-05</td> <td>-9.92e-06</td>\n",
       "</tr>\n",
       "<tr>\n",
       "  <th>x2</th>    <td>    0.0001</td> <td> 8.41e-06</td> <td>   16.136</td> <td> 0.000</td> <td>    0.000</td> <td>    0.000</td>\n",
       "</tr>\n",
       "<tr>\n",
       "  <th>x3</th>    <td>    0.0003</td> <td> 8.42e-06</td> <td>   31.416</td> <td> 0.000</td> <td>    0.000</td> <td>    0.000</td>\n",
       "</tr>\n",
       "<tr>\n",
       "  <th>x4</th>    <td>   -0.0069</td> <td>    0.000</td> <td>  -19.822</td> <td> 0.000</td> <td>   -0.008</td> <td>   -0.006</td>\n",
       "</tr>\n",
       "<tr>\n",
       "  <th>x5</th>    <td>    0.0003</td> <td>  2.4e-06</td> <td>  111.331</td> <td> 0.000</td> <td>    0.000</td> <td>    0.000</td>\n",
       "</tr>\n",
       "</table>\n",
       "<table class=\"simpletable\">\n",
       "<tr>\n",
       "  <th>Omnibus:</th>       <td>2033993.312</td> <th>  Durbin-Watson:     </th> <td>   1.750</td> \n",
       "</tr>\n",
       "<tr>\n",
       "  <th>Prob(Omnibus):</th>   <td> 0.000</td>    <th>  Jarque-Bera (JB):  </th> <td>80307.564</td>\n",
       "</tr>\n",
       "<tr>\n",
       "  <th>Skew:</th>            <td> 0.205</td>    <th>  Prob(JB):          </th> <td>    0.00</td> \n",
       "</tr>\n",
       "<tr>\n",
       "  <th>Kurtosis:</th>        <td> 1.155</td>    <th>  Cond. No.          </th> <td>1.51e+04</td> \n",
       "</tr>\n",
       "</table><br/><br/>Notes:<br/>[1] Standard Errors assume that the covariance matrix of the errors is correctly specified.<br/>[2] The condition number is large, 1.51e+04. This might indicate that there are<br/>strong multicollinearity or other numerical problems."
      ],
      "text/plain": [
       "<class 'statsmodels.iolib.summary.Summary'>\n",
       "\"\"\"\n",
       "                            OLS Regression Results                            \n",
       "==============================================================================\n",
       "Dep. Variable:                      y   R-squared:                       0.028\n",
       "Model:                            OLS   Adj. R-squared:                  0.028\n",
       "Method:                 Least Squares   F-statistic:                     3069.\n",
       "Date:                Fri, 29 Jul 2022   Prob (F-statistic):               0.00\n",
       "Time:                        22:40:30   Log-Likelihood:            -3.8068e+05\n",
       "No. Observations:              539383   AIC:                         7.614e+05\n",
       "Df Residuals:                  539377   BIC:                         7.614e+05\n",
       "Df Model:                           5                                         \n",
       "Covariance Type:            nonrobust                                         \n",
       "==============================================================================\n",
       "                 coef    std err          t      P>|t|      [0.025      0.975]\n",
       "------------------------------------------------------------------------------\n",
       "const          0.2258      0.003     72.798      0.000       0.220       0.232\n",
       "x1         -1.055e-05   3.23e-07    -32.680      0.000   -1.12e-05   -9.92e-06\n",
       "x2             0.0001   8.41e-06     16.136      0.000       0.000       0.000\n",
       "x3             0.0003   8.42e-06     31.416      0.000       0.000       0.000\n",
       "x4            -0.0069      0.000    -19.822      0.000      -0.008      -0.006\n",
       "x5             0.0003    2.4e-06    111.331      0.000       0.000       0.000\n",
       "==============================================================================\n",
       "Omnibus:                  2033993.312   Durbin-Watson:                   1.750\n",
       "Prob(Omnibus):                  0.000   Jarque-Bera (JB):            80307.564\n",
       "Skew:                           0.205   Prob(JB):                         0.00\n",
       "Kurtosis:                       1.155   Cond. No.                     1.51e+04\n",
       "==============================================================================\n",
       "\n",
       "Notes:\n",
       "[1] Standard Errors assume that the covariance matrix of the errors is correctly specified.\n",
       "[2] The condition number is large, 1.51e+04. This might indicate that there are\n",
       "strong multicollinearity or other numerical problems.\n",
       "\"\"\""
      ]
     },
     "execution_count": 90,
     "metadata": {},
     "output_type": "execute_result"
    }
   ],
   "source": [
    "import statsmodels\n",
    "# import statsmodels.formula.api as sm\n",
    "import statsmodels.api as sm\n",
    "X=np.append(arr=np.ones((539383,1)).astype(int),values=X,axis=1)\n",
    "X_opt=np.array(X[:,[0,1,2,3,4,5]],dtype=int)\n",
    "regressor_OLS = sm.OLS(endog = y, exog = X_opt).fit()\n",
    "regressor_OLS.summary()"
   ]
  },
  {
   "cell_type": "markdown",
   "id": "6e1640e4",
   "metadata": {},
   "source": [
    "## As all the features are statistically significant over here for the prediction of dependent variable as per the above result so therefore we are considering all of them"
   ]
  },
  {
   "cell_type": "markdown",
   "id": "bc27187a",
   "metadata": {},
   "source": [
    "## Splitting the dataset into training set and testing set"
   ]
  },
  {
   "cell_type": "code",
   "execution_count": 110,
   "id": "4935986c",
   "metadata": {},
   "outputs": [],
   "source": [
    "from sklearn.model_selection import train_test_split\n",
    "X_train,X_test,y_train,y_test=train_test_split(X,y,test_size=0.2,random_state=0)"
   ]
  },
  {
   "cell_type": "markdown",
   "id": "57136e60",
   "metadata": {},
   "source": [
    "## Feature Scaling"
   ]
  },
  {
   "cell_type": "code",
   "execution_count": 111,
   "id": "20db85d7",
   "metadata": {},
   "outputs": [],
   "source": [
    "from sklearn.preprocessing import MinMaxScaler\n",
    "sc=MinMaxScaler(feature_range=(0,1))\n",
    "X_train=sc.fit_transform(X_train)\n",
    "X_test=sc.transform(X_test)"
   ]
  },
  {
   "cell_type": "markdown",
   "id": "d2184eba",
   "metadata": {},
   "source": [
    "## Initializing the ANN"
   ]
  },
  {
   "cell_type": "code",
   "execution_count": 112,
   "id": "5e5b3e73",
   "metadata": {},
   "outputs": [],
   "source": [
    "ann=tf.keras.models.Sequential()"
   ]
  },
  {
   "cell_type": "markdown",
   "id": "30485363",
   "metadata": {},
   "source": [
    "## Adding the first input layer over here"
   ]
  },
  {
   "cell_type": "code",
   "execution_count": 113,
   "id": "4cd9ee3f",
   "metadata": {},
   "outputs": [],
   "source": [
    "ann.add(tf.keras.layers.Dense(units=7,activation=\"relu\"))"
   ]
  },
  {
   "cell_type": "markdown",
   "id": "02d0f313",
   "metadata": {},
   "source": [
    "## Adding the hidden input layer over here"
   ]
  },
  {
   "cell_type": "code",
   "execution_count": 114,
   "id": "932ce3b4",
   "metadata": {},
   "outputs": [],
   "source": [
    "ann.add(tf.keras.layers.Dense(units=7,activation=\"relu\"))"
   ]
  },
  {
   "cell_type": "markdown",
   "id": "21700386",
   "metadata": {},
   "source": [
    "## Adding the output layer over here"
   ]
  },
  {
   "cell_type": "code",
   "execution_count": 115,
   "id": "be8d0b05",
   "metadata": {},
   "outputs": [],
   "source": [
    "ann.add(tf.keras.layers.Dense(units=1,activation=\"sigmoid\"))"
   ]
  },
  {
   "cell_type": "markdown",
   "id": "14ef5328",
   "metadata": {},
   "source": [
    "## Compiling \n",
    "As this one is classification model i mean to say as we want to predict the binary outcome over here "
   ]
  },
  {
   "cell_type": "code",
   "execution_count": 116,
   "id": "cee1c690",
   "metadata": {},
   "outputs": [],
   "source": [
    "ann.compile(optimizer=\"adam\",loss=\"binary_crossentropy\",metrics=['accuracy'])"
   ]
  },
  {
   "cell_type": "markdown",
   "id": "1ff83e3f",
   "metadata": {},
   "source": [
    "## Training the model \n"
   ]
  },
  {
   "cell_type": "code",
   "execution_count": 121,
   "id": "4628cfc4",
   "metadata": {},
   "outputs": [
    {
     "name": "stdout",
     "output_type": "stream",
     "text": [
      "Epoch 1/25\n",
      "13485/13485 [==============================] - 15s 1ms/step - loss: 0.6670 - accuracy: 0.5860\n",
      "Epoch 2/25\n",
      "13485/13485 [==============================] - 15s 1ms/step - loss: 0.6670 - accuracy: 0.5854\n",
      "Epoch 3/25\n",
      "13485/13485 [==============================] - 15s 1ms/step - loss: 0.6668 - accuracy: 0.5865\n",
      "Epoch 4/25\n",
      "13485/13485 [==============================] - 15s 1ms/step - loss: 0.6668 - accuracy: 0.5863\n",
      "Epoch 5/25\n",
      "13485/13485 [==============================] - 15s 1ms/step - loss: 0.6668 - accuracy: 0.5862\n",
      "Epoch 6/25\n",
      "13485/13485 [==============================] - 15s 1ms/step - loss: 0.6666 - accuracy: 0.5863\n",
      "Epoch 7/25\n",
      "13485/13485 [==============================] - 15s 1ms/step - loss: 0.6666 - accuracy: 0.5864\n",
      "Epoch 8/25\n",
      "13485/13485 [==============================] - 15s 1ms/step - loss: 0.6665 - accuracy: 0.5863\n",
      "Epoch 9/25\n",
      "13485/13485 [==============================] - 15s 1ms/step - loss: 0.6664 - accuracy: 0.5868\n",
      "Epoch 10/25\n",
      "13485/13485 [==============================] - 15s 1ms/step - loss: 0.6663 - accuracy: 0.5871\n",
      "Epoch 11/25\n",
      "13485/13485 [==============================] - 15s 1ms/step - loss: 0.6662 - accuracy: 0.5863\n",
      "Epoch 12/25\n",
      "13485/13485 [==============================] - 15s 1ms/step - loss: 0.6660 - accuracy: 0.5870\n",
      "Epoch 13/25\n",
      "13485/13485 [==============================] - 15s 1ms/step - loss: 0.6658 - accuracy: 0.5874\n",
      "Epoch 14/25\n",
      "13485/13485 [==============================] - 15s 1ms/step - loss: 0.6657 - accuracy: 0.5880\n",
      "Epoch 15/25\n",
      "13485/13485 [==============================] - 15s 1ms/step - loss: 0.6657 - accuracy: 0.5878\n",
      "Epoch 16/25\n",
      "13485/13485 [==============================] - 15s 1ms/step - loss: 0.6656 - accuracy: 0.5875\n",
      "Epoch 17/25\n",
      "13485/13485 [==============================] - 15s 1ms/step - loss: 0.6656 - accuracy: 0.5878\n",
      "Epoch 18/25\n",
      "13485/13485 [==============================] - 15s 1ms/step - loss: 0.6656 - accuracy: 0.5882\n",
      "Epoch 19/25\n",
      "13485/13485 [==============================] - 15s 1ms/step - loss: 0.6655 - accuracy: 0.5882\n",
      "Epoch 20/25\n",
      "13485/13485 [==============================] - 15s 1ms/step - loss: 0.6654 - accuracy: 0.5883\n",
      "Epoch 21/25\n",
      "13485/13485 [==============================] - 15s 1ms/step - loss: 0.6655 - accuracy: 0.5884\n",
      "Epoch 22/25\n",
      "13485/13485 [==============================] - 15s 1ms/step - loss: 0.6654 - accuracy: 0.5884\n",
      "Epoch 23/25\n",
      "13485/13485 [==============================] - 15s 1ms/step - loss: 0.6655 - accuracy: 0.5884\n",
      "Epoch 24/25\n",
      "13485/13485 [==============================] - 15s 1ms/step - loss: 0.6654 - accuracy: 0.5884\n",
      "Epoch 25/25\n",
      "13485/13485 [==============================] - 15s 1ms/step - loss: 0.6655 - accuracy: 0.5885\n"
     ]
    },
    {
     "data": {
      "text/plain": [
       "<keras.callbacks.History at 0x2a51863eda0>"
      ]
     },
     "execution_count": 121,
     "metadata": {},
     "output_type": "execute_result"
    }
   ],
   "source": [
    "ann.fit(X_train, y_train, batch_size = 32, epochs = 25)"
   ]
  },
  {
   "cell_type": "markdown",
   "id": "ac203d54",
   "metadata": {},
   "source": [
    "## Predicting the test set results"
   ]
  },
  {
   "cell_type": "code",
   "execution_count": 122,
   "id": "4728060f",
   "metadata": {},
   "outputs": [
    {
     "name": "stdout",
     "output_type": "stream",
     "text": [
      "3372/3372 [==============================] - 3s 840us/step\n",
      "[[0.52603334 0.        ]\n",
      " [0.44992423 0.        ]\n",
      " [0.65929472 0.        ]\n",
      " ...\n",
      " [0.59524494 0.        ]\n",
      " [0.44992423 0.        ]\n",
      " [0.37641177 0.        ]]\n"
     ]
    }
   ],
   "source": [
    "y_pred=ann.predict(X_test)\n",
    "print(np.concatenate((y_pred.reshape(len(y_pred),1),y_test.reshape(len(y_test),1)),1))"
   ]
  },
  {
   "cell_type": "markdown",
   "id": "7431da01",
   "metadata": {},
   "source": [
    "## Making the single prediction\n",
    "\n",
    "THERE IS A FLIGHT HAVING FOLLOWING FEATURES PREDICT WHETHER IT WILL DELAY OR NOT\n",
    "### FLIGHT IS 270 \n",
    "### AirportFrom =LAX\n",
    "### AirportTo=DFW\n",
    "### DayOfWeek=3\n",
    "### Time=22\n",
    "### Length=207"
   ]
  },
  {
   "cell_type": "markdown",
   "id": "01e007c4",
   "metadata": {},
   "source": [
    "# Observations"
   ]
  },
  {
   "cell_type": "markdown",
   "id": "253ec206",
   "metadata": {},
   "source": [
    "### Now the flight having above features will not delay and over here we are setting the threshold of 50% if the probability is more than 50% then it means flight will delay rather flight will not delay and as we have only 29% chance for the delay of flight so therefore over here we will assume that flight will not delay "
   ]
  },
  {
   "cell_type": "code",
   "execution_count": 128,
   "id": "a3aca05e",
   "metadata": {},
   "outputs": [
    {
     "name": "stdout",
     "output_type": "stream",
     "text": [
      "1/1 [==============================] - 0s 18ms/step\n",
      "[[0.2911813]]\n",
      "1/1 [==============================] - 0s 17ms/step\n",
      "[[False]]\n"
     ]
    }
   ],
   "source": [
    "print(ann.predict(sc.transform([[270,154,80,3,22,207]]))) \n",
    "print(ann.predict(sc.transform([[270,154,80,3,22,207]]))>0.5) "
   ]
  },
  {
   "cell_type": "code",
   "execution_count": null,
   "id": "c4be5ecb",
   "metadata": {},
   "outputs": [],
   "source": []
  },
  {
   "cell_type": "code",
   "execution_count": null,
   "id": "f39ed36b",
   "metadata": {},
   "outputs": [],
   "source": []
  },
  {
   "cell_type": "code",
   "execution_count": null,
   "id": "32ded6cf",
   "metadata": {},
   "outputs": [],
   "source": []
  },
  {
   "cell_type": "code",
   "execution_count": null,
   "id": "d42be566",
   "metadata": {},
   "outputs": [],
   "source": []
  },
  {
   "cell_type": "code",
   "execution_count": null,
   "id": "32181682",
   "metadata": {},
   "outputs": [],
   "source": []
  },
  {
   "cell_type": "code",
   "execution_count": null,
   "id": "9c671119",
   "metadata": {},
   "outputs": [],
   "source": []
  },
  {
   "cell_type": "code",
   "execution_count": null,
   "id": "9233986e",
   "metadata": {},
   "outputs": [],
   "source": []
  },
  {
   "cell_type": "code",
   "execution_count": null,
   "id": "be96cf88",
   "metadata": {},
   "outputs": [],
   "source": []
  },
  {
   "cell_type": "code",
   "execution_count": null,
   "id": "56e568e0",
   "metadata": {},
   "outputs": [],
   "source": []
  },
  {
   "cell_type": "code",
   "execution_count": null,
   "id": "b8678e09",
   "metadata": {},
   "outputs": [],
   "source": []
  },
  {
   "cell_type": "code",
   "execution_count": null,
   "id": "6f0759ed",
   "metadata": {},
   "outputs": [],
   "source": []
  },
  {
   "cell_type": "code",
   "execution_count": null,
   "id": "897ced48",
   "metadata": {},
   "outputs": [],
   "source": []
  },
  {
   "cell_type": "code",
   "execution_count": null,
   "id": "a52fae0e",
   "metadata": {},
   "outputs": [],
   "source": []
  },
  {
   "cell_type": "code",
   "execution_count": null,
   "id": "ca538f73",
   "metadata": {},
   "outputs": [],
   "source": []
  },
  {
   "cell_type": "code",
   "execution_count": null,
   "id": "6f69ada3",
   "metadata": {},
   "outputs": [],
   "source": []
  },
  {
   "cell_type": "code",
   "execution_count": null,
   "id": "fdb8de1b",
   "metadata": {},
   "outputs": [],
   "source": []
  },
  {
   "cell_type": "code",
   "execution_count": null,
   "id": "c12b331b",
   "metadata": {},
   "outputs": [],
   "source": []
  },
  {
   "cell_type": "code",
   "execution_count": null,
   "id": "e64b7cd2",
   "metadata": {},
   "outputs": [],
   "source": []
  }
 ],
 "metadata": {
  "kernelspec": {
   "display_name": "Python 3 (ipykernel)",
   "language": "python",
   "name": "python3"
  },
  "language_info": {
   "codemirror_mode": {
    "name": "ipython",
    "version": 3
   },
   "file_extension": ".py",
   "mimetype": "text/x-python",
   "name": "python",
   "nbconvert_exporter": "python",
   "pygments_lexer": "ipython3",
   "version": "3.10.4"
  }
 },
 "nbformat": 4,
 "nbformat_minor": 5
}
